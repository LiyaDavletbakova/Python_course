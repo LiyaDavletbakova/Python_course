{
 "cells": [
  {
   "cell_type": "markdown",
   "metadata": {},
   "source": [
    "1. Реализовать класс «Дата», функция-конструктор которого должна принимать дату в виде строки формата «день-месяц-год». В рамках класса реализовать два метода. Первый, с декоратором @classmethod. Он должен извлекать число, месяц, год и преобразовывать их тип к типу «Число». Второй, с декоратором @staticmethod, должен проводить валидацию числа, месяца и года (например, месяц — от 1 до 12). Проверить работу полученной структуры на реальных данных."
   ]
  },
  {
   "cell_type": "code",
   "execution_count": 40,
   "metadata": {},
   "outputs": [],
   "source": [
    "class Date:\n",
    "    def __init__(self, day, mounth, year):\n",
    "        self.d = day\n",
    "        self.m = mounth\n",
    "        self.y = year\n",
    "        print (f'день: {self.d} месяц: {self.m} год: {self.y}')\n",
    "        \n",
    "    @classmethod\n",
    "    def get_date(cls, date):\n",
    "        d,m,y = date.split('-')\n",
    "        try:\n",
    "            return cls(int(d), int(m),int(y))\n",
    "        except ValueError:\n",
    "            return cls(d,m,y)\n",
    "            \n",
    "    \n",
    "    @staticmethod\n",
    "    def valid(obj):\n",
    "        if type(obj.d) == int and type(obj.m) == int and type(obj.y) == int:\n",
    "            return 'валидация пройдена'\n",
    "        else:\n",
    "            return 'проверьте данные, введите числа'\n",
    "  "
   ]
  },
  {
   "cell_type": "code",
   "execution_count": 41,
   "metadata": {},
   "outputs": [
    {
     "name": "stdout",
     "output_type": "stream",
     "text": [
      "день: 12 месяц: 12 год: 2022\n"
     ]
    },
    {
     "data": {
      "text/plain": [
       "'валидация пройдена'"
      ]
     },
     "execution_count": 41,
     "metadata": {},
     "output_type": "execute_result"
    }
   ],
   "source": [
    "d='12-12-2022'\n",
    "d1 = Date.get_date(d)\n",
    "Date.valid(d1)"
   ]
  },
  {
   "cell_type": "code",
   "execution_count": 43,
   "metadata": {},
   "outputs": [
    {
     "name": "stdout",
     "output_type": "stream",
     "text": [
      "день: 12 месяц: ноябрь год: 2022\n"
     ]
    },
    {
     "data": {
      "text/plain": [
       "'проверьте данные, введите числа'"
      ]
     },
     "execution_count": 43,
     "metadata": {},
     "output_type": "execute_result"
    }
   ],
   "source": [
    "d2 = '12-ноябрь-2022'\n",
    "d22 = Date.get_date(d2)\n",
    "Date.valid(d22)"
   ]
  },
  {
   "cell_type": "markdown",
   "metadata": {},
   "source": [
    "2. Создайте собственный класс-исключение, обрабатывающий ситуацию деления на ноль. Проверьте его работу на данных, вводимых пользователем. При вводе нуля в качестве делителя программа должна корректно обработать эту ситуацию и не завершиться с ошибкой."
   ]
  },
  {
   "cell_type": "code",
   "execution_count": 44,
   "metadata": {},
   "outputs": [],
   "source": [
    "class Dev_zero(Exception):\n",
    "    def __init__(self, txt):\n",
    "        self.txt = txt"
   ]
  },
  {
   "cell_type": "code",
   "execution_count": 54,
   "metadata": {},
   "outputs": [
    {
     "name": "stdout",
     "output_type": "stream",
     "text": [
      "Введите делимое и делитель через пробел: 12 3\n",
      "ответ:  4.0\n",
      "процесс завершен\n"
     ]
    }
   ],
   "source": [
    "date = input('Введите делимое и делитель через пробел: ')\n",
    "num_1, num_2 = int(date.split()[0]), int(date.split()[1])\n",
    "\n",
    "try:\n",
    "    if num_2 == 0:\n",
    "        raise Dev_zero('деление на ноль')\n",
    "except Dev_zero as err:\n",
    "    print(err)\n",
    "else:\n",
    "    print('ответ: ', num_1/num_2)\n",
    "finally:\n",
    "    print('процесс завершен')"
   ]
  },
  {
   "cell_type": "markdown",
   "metadata": {},
   "source": [
    "3. Создайте собственный класс-исключение, который должен проверять содержимое списка на наличие только чисел. Проверить работу исключения на реальном примере. Запрашивать у пользователя данные и заполнять список необходимо только числами. Класс-исключение должен контролировать типы данных элементов списка.\n",
    "\n",
    "Примечание: длина списка не фиксирована. Элементы запрашиваются бесконечно, пока пользователь сам не остановит работу скрипта, введя, например, команду «stop». При этом скрипт завершается, сформированный список с числами выводится на экран.\n",
    "\n",
    "Подсказка: для этого задания примем, что пользователь может вводить только числа и строки. Во время ввода пользователем очередного элемента необходимо реализовать проверку типа элемента. Вносить его в список, только если введено число. Класс-исключение должен не позволить пользователю ввести текст (не число) и отобразить соответствующее сообщение. При этом работа скрипта не должна завершаться."
   ]
  },
  {
   "cell_type": "code",
   "execution_count": 61,
   "metadata": {},
   "outputs": [],
   "source": [
    "class Only_number(Exception):\n",
    "    def __init__(self, txt, elem):\n",
    "        self.txt = txt\n",
    "        self.el = elem\n",
    "    \n",
    "    def check(self):\n",
    "        if self.el == 'stop':\n",
    "            return self.el\n",
    "        try:\n",
    "            int(self.el)\n",
    "        except ValueError:\n",
    "            return self.el\n",
    "        else:\n",
    "            return int(self.el) \n",
    "    \n",
    "    def __str__(self):\n",
    "        return f'{self.txt} , a {self.el}'\n",
    "    "
   ]
  },
  {
   "cell_type": "code",
   "execution_count": 67,
   "metadata": {},
   "outputs": [],
   "source": [
    "def check():\n",
    "    ls = []\n",
    "    while True:\n",
    "        elem = input ('Введите число')\n",
    "        a = Only_number('Вы ввели не чиcло ', elem)\n",
    "        elem_n = a.check()\n",
    "        try:\n",
    "            if elem == 'stop':\n",
    "                return print(f'{ls}')\n",
    "            elif type (elem_n) == str:\n",
    "                raise Only_number ('Вы ввели не чиcло ', elem)\n",
    "        except Only_number as err:\n",
    "            print (err)\n",
    "        \n",
    "        else:\n",
    "            ls.append(elem)"
   ]
  },
  {
   "cell_type": "code",
   "execution_count": 68,
   "metadata": {},
   "outputs": [
    {
     "name": "stdout",
     "output_type": "stream",
     "text": [
      "Введите число12\n",
      "Введите число11\n",
      "Введите число12\n",
      "Введите числоff\n",
      "Вы ввели не чиcло  , a ff\n",
      "Введите числоff\n",
      "Вы ввели не чиcло  , a ff\n",
      "Введите числоstop\n",
      "['12', '11', '12']\n"
     ]
    }
   ],
   "source": [
    "check()"
   ]
  },
  {
   "cell_type": "markdown",
   "metadata": {},
   "source": [
    "4. Начните работу над проектом «Склад оргтехники». Создайте класс, описывающий склад. А также класс «Оргтехника», который будет базовым для классов-наследников. Эти классы — конкретные типы оргтехники (принтер, сканер, ксерокс). В базовом классе определите параметры, общие для приведённых типов. В классах-наследниках реализуйте параметры, уникальные для каждого типа оргтехники."
   ]
  },
  {
   "cell_type": "markdown",
   "metadata": {},
   "source": [
    "5. Продолжить работу над первым заданием. Разработайте методы, которые отвечают за приём оргтехники на склад и передачу в определённое подразделение компании. Для хранения данных о наименовании и количестве единиц оргтехники, а также других данных, можно использовать любую подходящую структуру (например, словарь)."
   ]
  },
  {
   "cell_type": "markdown",
   "metadata": {},
   "source": [
    "6. Продолжить работу над вторым заданием. Реализуйте механизм валидации вводимых пользователем данных. Например, для указания количества принтеров, отправленных на склад, нельзя использовать строковый тип данных.\n",
    "Подсказка: постарайтесь реализовать в проекте «Склад оргтехники» максимум возможностей, изученных на уроках по ООП."
   ]
  },
  {
   "cell_type": "code",
   "execution_count": 259,
   "metadata": {},
   "outputs": [],
   "source": [
    "class Only_number(Exception):\n",
    "    def __init__(self, txt, elem):\n",
    "        self.txt = txt\n",
    "        self.el = elem\n",
    "    \n",
    "    def check(self):\n",
    "        try:\n",
    "            int(self.el)\n",
    "        except ValueError:\n",
    "            return self.el\n",
    "        else:\n",
    "            return int(self.el)\n",
    "    \n",
    "    def __str__(self):\n",
    "        return f'{self.txt} , a {self.el}'"
   ]
  },
  {
   "cell_type": "code",
   "execution_count": 260,
   "metadata": {},
   "outputs": [],
   "source": [
    "spisik_all = [['Имя', 'Кол-во', 'Цена'],['компьютер', 10, 1000],['принтер', 2, 2000],['мышь', 10, 1000]]"
   ]
  },
  {
   "cell_type": "code",
   "execution_count": 261,
   "metadata": {},
   "outputs": [],
   "source": [
    "Comp = [['№', 'Тип', 'память'], [1, 'рабочая станция', 64], [2, 'рабочая станция', 64], [3, 'рабочая станция', 64],\n",
    "[4, 'рабочая станция', 32], [5, 'рабочая станция', 32], [6, 'ноутбук', 12], [7, 'ноутбук', 12],[8, 'ноутбук', 12],\n",
    "[9, 'ноутбук', 6],[10, 'ноутбук', 6]]"
   ]
  },
  {
   "cell_type": "code",
   "execution_count": 262,
   "metadata": {},
   "outputs": [],
   "source": [
    "Prin = [ ['№', 'Тип печати', 'размер печати'],  [1, 'Цветная', 'А4'],  [2, 'Черно-белая', 'А3-А4'], [3, 'Черно-белая', 'А4']]"
   ]
  },
  {
   "cell_type": "code",
   "execution_count": 263,
   "metadata": {},
   "outputs": [],
   "source": [
    "C_mouse =[ ['№', 'Тип подключения'], [1, 'проводная'], [2, 'проводная'], [3, 'проводная'], [4, 'проводная'], [5, 'проводная'],\n",
    "[6, 'беспроводная'], [7, 'беспроводная'], [8, 'беспроводная'], [9, 'беспроводная'], [10, 'беспроводная']]"
   ]
  },
  {
   "cell_type": "code",
   "execution_count": 264,
   "metadata": {},
   "outputs": [],
   "source": [
    "class Werehouse:\n",
    "    def __init__(self, w_type, comment):\n",
    "        self.w = w_type\n",
    "        self.com = comment\n",
    "    def __str__(self):\n",
    "        return f'Склад: {self.w} ({self.com})'\n",
    "    def get_thing(self, date):\n",
    "        self.date = date\n",
    "        print (f'{self.date} Поступила техника на склад')\n",
    "    def give_thing(self, office):\n",
    "        self.office = office\n",
    "        print (f'Передача техники в {self.office}')\n",
    "\n",
    "class Office_machines(Werehouse):\n",
    "    def __init__(self, w_type, comment, name):\n",
    "        Werehouse.__init__(self, w_type, comment)\n",
    "        self.n = name\n",
    "        self.ind = [i[0] for i in spisik_all].index(name)\n",
    "        self.p = spisik_all[self.ind][2]\n",
    "        self.num = spisik_all[self.ind][1]\n",
    "        \n",
    "    def get_thing(self, date, N):\n",
    "        self.date = date\n",
    "        self.N = N\n",
    "        err = Only_number('Вы ввели не чиcло ', self.N)\n",
    "        self.N = err.check()\n",
    "        try:\n",
    "            if type(self.N) == str:\n",
    "                raise Only_number ('Вы ввели не чиcло ', self.N)\n",
    "        except Only_number as err:\n",
    "            print (err)\n",
    "        else:\n",
    "            spisik_all[self.ind][1] = self.num+self.N\n",
    "            self.num = spisik_all[self.ind][1]\n",
    "            print (f'{self.date} Поступил(и) {self.n} на склад {self.w} в кол-ве {self.N}, Текущее кол-во: {spisik_all[self.ind][1]} ')      \n",
    "        \n",
    "        \n",
    "    def give_thing(self, office, count):\n",
    "        self.office = office\n",
    "        self.count = count\n",
    "        err = Only_number('Вы ввели не чиcло ', self.count)\n",
    "        self.count = err.check()\n",
    "        try:\n",
    "            if type(self.count) == str:\n",
    "                raise Only_number ('Вы ввели не чиcло ', self.count)\n",
    "        except Only_number as err:\n",
    "            print (err)\n",
    "        else:\n",
    "            if self.count<self.num:\n",
    "                spisik_all[self.ind][2] = self.num - self.count\n",
    "                self.num = spisik_all[self.ind][2]\n",
    "                print (f'Передача {self.n} со склада {self.w} в {self.office} в кол-ве {self.count}, доступно: {self.num}')\n",
    "            else:\n",
    "                print (f'{self.n} не хватает для передачи, доступное кол-во {self.num} ')\n",
    "            \n",
    "        \n",
    "    def __str__(self):\n",
    "        aa1 =''\n",
    "        for i in spisik_all:\n",
    "            for j in range(len(i)):\n",
    "                if j<len(i)-1:\n",
    "                    aa1 = aa1 + str(i[j]) + '  '\n",
    "                else:\n",
    "                    aa1 = aa1 + str(i[j]) + '\\n'       \n",
    "        return aa1\n",
    "    \n",
    "class Printer(Office_machines, Werehouse):\n",
    "    def __init__(self, w_type, comment, name, color, size, U = 1):\n",
    "        Office_machines.__init__(self, w_type, comment, name)\n",
    "        self.color = color\n",
    "        self.size = size\n",
    "        self.U = U\n",
    " \n",
    "        \n",
    "    def add_Printer(self):\n",
    "        err = Only_number('Вы ввели не чиcло ', self.U)\n",
    "        self.U = err.check()\n",
    "        try:\n",
    "            if type(self.U) == str:\n",
    "                raise Only_number ('Вы ввели не чиcло ', self.U)\n",
    "        except Only_number as err:\n",
    "            print (err)\n",
    "        else:\n",
    "            for i in range(self.U):\n",
    "                ls_el = [Prin[-1][0]+1, self.color, self.size]\n",
    "                Prin.append(ls_el)\n",
    "            print (f'Добавлено {self.U} принтеров')      \n",
    "        \n",
    "        \n",
    "    def del_Printer(self):\n",
    "        err = Only_number('Вы ввели не чиcло ', self.U)\n",
    "        self.U = err.check()\n",
    "        try:\n",
    "            if type(self.U) == str:\n",
    "                raise Only_number ('Вы ввели не чиcло ', self.U)\n",
    "        except Only_number as err:\n",
    "            print (err)\n",
    "        else:\n",
    "            if self.U<self.num:\n",
    "                s = [self.color, self.size]\n",
    "                for i in Prin:\n",
    "                    if i[1:] == s:\n",
    "                        Prin.pop(Prin.index(i))\n",
    "                d = 1\n",
    "                for i in Prin[1:]:\n",
    "                    i[0] = d\n",
    "                    d = d+1\n",
    "                print (f'Удалено {self.U} принторов')\n",
    "            else:\n",
    "                print (f'{self.U} не хватает для передачи, доступное кол-во {self.num} ')\n",
    "                \n",
    "    def check_Printer(self):\n",
    "        if Prin[-1][0] == spisik_all[2][1]:\n",
    "            print('Кол-во совпадает, все корректно')\n",
    "        elif Prin[-1][0] < spisik_all[2][1]:\n",
    "            print(f'Добавьте в список Prin недостающие элементы {Prin[-1][0] - spisik_all[2][1]}')           \n",
    "                \n",
    "        elif Prin[-1][0] > spisik_all[2][1]:\n",
    "            print(f'Добавьте в список spisik_all недостающие элементы {Prin[-1][0] - spisik_all[2][1]}')\n",
    "                \n",
    "    \n",
    "    def __str__(self):\n",
    "        pp1 =''\n",
    "        for i in Prin:\n",
    "            for j in range(len(i)):\n",
    "                if j<len(i)-1:\n",
    "                    pp1 = pp1 + str(i[j]) + '  '\n",
    "                else:\n",
    "                    pp1 = pp1 + str(i[j]) + '\\n'       \n",
    "        return pp1\n",
    "                             \n",
    "class Computer(Office_machines, Werehouse):\n",
    "    def __init__(self, w_type, comment, name, kind, memory, U = 1):\n",
    "        Office_machines.__init__(self, w_type, comment, name)\n",
    "        self.kind = kind\n",
    "        self.memory = memory\n",
    "        self.U = U\n",
    " \n",
    "        \n",
    "    def add_Computer(self):\n",
    "        err = Only_number('Вы ввели не чиcло ', self.U)\n",
    "        self.U = err.check()\n",
    "        try:\n",
    "            if type(self.U) == str:\n",
    "                raise Only_number ('Вы ввели не чиcло ', self.U)\n",
    "        except Only_number as err:\n",
    "            print (err)\n",
    "        else:\n",
    "            for i in range(self.U):\n",
    "                ls_el = [Comp[-1][0]+1, self.kind, self.memory]\n",
    "                Comp.append(ls_el)\n",
    "            print (f'Добавлено {self.U} компьютеров')      \n",
    "        \n",
    "        \n",
    "    def del_Computer(self):\n",
    "        err = Only_number('Вы ввели не чиcло ', self.U)\n",
    "        self.U = err.check()\n",
    "        try:\n",
    "            if type(self.U) == str:\n",
    "                raise Only_number ('Вы ввели не чиcло ', self.U)\n",
    "        except Only_number as err:\n",
    "            print (err)\n",
    "        else:\n",
    "            if self.U<self.num:\n",
    "                s = [self.kind, self.memory]\n",
    "                for i in Comp:\n",
    "                    if i[1:] == s:\n",
    "                        Comp.pop(Comp.index(i))\n",
    "                d = 1\n",
    "                for i in Comp[1:]:\n",
    "                    i[0] = d\n",
    "                    d = d+1\n",
    "                print (f'Удалено {self.U} компьютеров')\n",
    "            else:\n",
    "                print (f'{self.U} не хватает для передачи, доступное кол-во {self.num} ')\n",
    "                \n",
    "    def check_Computer(self):\n",
    "        if Comp[-1][0] == spisik_all[1][1]:\n",
    "            print('Кол-во совпадает, все корректно')\n",
    "        elif Comp[-1][0] < spisik_all[1][1]:\n",
    "            print(f'Добавьте в список Comp недостающие элементы {Comp[-1][0] - spisik_all[1][1]}')           \n",
    "                \n",
    "        elif Comp[-1][0] > spisik_all[1][1]:\n",
    "            print(f'Добавьте в список spisik_all недостающие элементы {Comp[-1][0] - spisik_all[1][1]}')\n",
    "  \n",
    "    def __str__(self):\n",
    "        cc1 =''\n",
    "        for i in Comp:\n",
    "            for j in range(len(i)):\n",
    "                if j<len(i)-1:\n",
    "                    cc1 = cc1 + str(i[j]) + '  '\n",
    "                else:\n",
    "                    cc1 = cc1 + str(i[j]) + '\\n'       \n",
    "        return cc1\n",
    "        \n",
    "class Com_mouse(Office_machines, Werehouse):\n",
    "    def __init__(self, w_type, comment, name, kind, U = 1):\n",
    "        Office_machines.__init__(self, w_type, comment, name)\n",
    "        self.kind = kind\n",
    "        self.U = U\n",
    " \n",
    "        \n",
    "    def add_Com_mouse(self):\n",
    "        err = Only_number('Вы ввели не чиcло ', self.U)\n",
    "        self.U = err.check()\n",
    "        try:\n",
    "            if type(self.U) == str:\n",
    "                raise Only_number ('Вы ввели не чиcло ', self.U)\n",
    "        except Only_number as err:\n",
    "            print (err)\n",
    "        else:\n",
    "            for i in range(self.U):\n",
    "                ls_el = [C_mouse[-1][0]+1, self.kind]\n",
    "                C_mouse.append(ls_el)\n",
    "            print (f'Добавлено {self.U} компьютеров')      \n",
    "        \n",
    "        \n",
    "    def del_Com_mouse(self):\n",
    "        err = Only_number('Вы ввели не чиcло ', self.U)\n",
    "        self.U = err.check()\n",
    "        try:\n",
    "            if type(self.U) == str:\n",
    "                raise Only_number ('Вы ввели не чиcло ', self.U)\n",
    "        except Only_number as err:\n",
    "            print (err)\n",
    "        else:\n",
    "            if self.U<self.num:\n",
    "                s = [self.kind]\n",
    "                for i in C_mouse:\n",
    "                    if i[1:] == s:\n",
    "                        C_mouse.pop(C_mouse.index(i))\n",
    "                d = 1\n",
    "                for i in C_mouse[1:]:\n",
    "                    i[0] = d\n",
    "                    d = d+1\n",
    "                print (f'Удалено {self.U} компьютеров')\n",
    "            else:\n",
    "                print (f'{self.U} не хватает для передачи, доступное кол-во {self.num} ')\n",
    "                \n",
    "    def check_Com_mouse(self):\n",
    "        if C_mouse[-1][0] == spisik_all[3][1]:\n",
    "            print('Кол-во совпадает, все корректно')\n",
    "        elif C_mouse[-1][0] < spisik_all[3][1]:\n",
    "            print(f'Добавьте в список Prin недостающие элементы {C_mouse[-1][0] - spisik_all[3][1]}')           \n",
    "                \n",
    "        elif C_mouse[-1][0] > spisik_all[3][1]:\n",
    "            print(f'Добавьте в список spisik_all недостающие элементы {C_mouse[-1][0] - spisik_all[3][1]}')\n",
    "            \n",
    "    def __str__(self):\n",
    "        mm1 =''\n",
    "        for i in Prin:\n",
    "            for j in range(len(i)):\n",
    "                if j<len(i)-1:\n",
    "                    mm1 = mm1 + str(i[j]) + '  '\n",
    "                else:\n",
    "                    mm1 = mm1 + str(i[j]) + '\\n'       \n",
    "        return mm1"
   ]
  },
  {
   "cell_type": "code",
   "execution_count": 265,
   "metadata": {},
   "outputs": [
    {
     "name": "stdout",
     "output_type": "stream",
     "text": [
      "Склад: Оргтехника (для отчетности)\n",
      "12-12-2022 Поступила техника на склад\n",
      "Передача техники в Отдел СИС\n",
      "Имя  Кол-во  Цена\n",
      "компьютер  10  1000\n",
      "принтер  2  2000\n",
      "мышь  10  1000\n",
      "\n",
      "12-12-2022 Поступил(и) принтер на склад Оргтехника в кол-ве 10, Текущее кол-во: 12 \n",
      "Передача принтер со склада Оргтехника в Отдел ПП в кол-ве 9, доступно: 3\n",
      "3\n",
      "2000\n",
      "принтер не хватает для передачи, доступное кол-во 3 \n",
      "Передача принтер со склада Оргтехника в Отдел ПП в кол-ве 1, доступно: 2\n",
      "Вы ввели не чиcло  , a ff\n"
     ]
    }
   ],
   "source": [
    "ls_w ={'компьютер': 10, 'принтер': 2, 'мышь': 10}\n",
    "w1 = Werehouse('Оргтехника', 'для отчетности')\n",
    "print(w1)\n",
    "w1.get_thing('12-12-2022')\n",
    "w1.give_thing('Отдел СИС')\n",
    "w2 = Office_machines(w1.w, w1.com, 'принтер')\n",
    "print(w2)\n",
    "w2.get_thing('12-12-2022',10)\n",
    "w2.give_thing('Отдел ПП', 9)\n",
    "print(w2.num)\n",
    "print(w2.p)\n",
    "w2.give_thing('Отдел ПП', 9)\n",
    "w2.give_thing('Отдел ПП', '1')\n",
    "w2.give_thing('Отдел ПП', 'ff')"
   ]
  },
  {
   "cell_type": "code",
   "execution_count": 266,
   "metadata": {},
   "outputs": [
    {
     "name": "stdout",
     "output_type": "stream",
     "text": [
      "№  Тип печати  размер печати\n",
      "1  Цветная  А4\n",
      "2  Черно-белая  А3-А4\n",
      "3  Черно-белая  А4\n",
      "\n",
      "Добавлено 1 принтеров\n",
      "Добавлено 3 принтеров\n",
      "№  Тип печати  размер печати\n",
      "1  Цветная  А4\n",
      "2  Черно-белая  А3-А4\n",
      "3  Черно-белая  А4\n",
      "4  Цветная  А4\n",
      "5  Цветная  А4\n",
      "6  Цветная  А4\n",
      "7  Цветная  А4\n",
      "\n",
      "Добавьте в список Prin недостающие элементы -5\n",
      "Добавлено 5 принтеров\n",
      "Кол-во совпадает, все корректно\n"
     ]
    }
   ],
   "source": [
    "w2 = Printer(w1.w, w1.com, 'принтер', 'Цветная', 'А4')\n",
    "print(w3)\n",
    "w2.add_Printer()\n",
    "w2 = Printer(w1.w, w1.com, 'принтер', 'Цветная', 'А4', 3)\n",
    "w2.add_Printer()\n",
    "print(w2)\n",
    "w2.check_Printer()\n",
    "w2 = Printer(w1.w, w1.com, 'принтер', 'Цветная', 'А4', 5)\n",
    "w2.add_Printer()\n",
    "w2.check_Printer()"
   ]
  },
  {
   "cell_type": "code",
   "execution_count": 267,
   "metadata": {},
   "outputs": [
    {
     "name": "stdout",
     "output_type": "stream",
     "text": [
      "12-12-2021 Поступила техника на склад\n",
      "Передача техники в Отдел ПП\n",
      "Имя  Кол-во  Цена\n",
      "компьютер  10  1000\n",
      "принтер  12  2\n",
      "мышь  10  1000\n",
      "\n",
      "12-12-2022 Поступил(и) компьютер на склад Оргтехника в кол-ве 2, Текущее кол-во: 12 \n",
      "Передача компьютер со склада Оргтехника в Отдел ПП в кол-ве 3, доступно: 9\n",
      "9\n",
      "1000\n",
      "№  Тип  память\n",
      "1  рабочая станция  64\n",
      "2  рабочая станция  64\n",
      "3  рабочая станция  64\n",
      "4  рабочая станция  32\n",
      "5  рабочая станция  32\n",
      "6  ноутбук  12\n",
      "7  ноутбук  12\n",
      "8  ноутбук  12\n",
      "9  ноутбук  6\n",
      "10  ноутбук  6\n",
      "\n",
      "Добавлено 1 компьютеров\n",
      "Удалено 2 компьютеров\n",
      "№  Тип  память\n",
      "1  рабочая станция  64\n",
      "2  рабочая станция  64\n",
      "3  рабочая станция  64\n",
      "4  рабочая станция  32\n",
      "5  рабочая станция  32\n",
      "6  ноутбук  12\n",
      "7  ноутбук  6\n",
      "8  ноутбук  6\n",
      "\n",
      "Добавьте в список Comp недостающие элементы -4\n"
     ]
    }
   ],
   "source": [
    "w1.get_thing('12-12-2021')\n",
    "w1.give_thing('Отдел ПП')\n",
    "w3 = Office_machines(w1.w, w1.com, 'компьютер')\n",
    "print(w3)\n",
    "w3.get_thing('12-12-2022',2)\n",
    "w3.give_thing('Отдел ПП', 3)\n",
    "print(w3.num)\n",
    "print(w3.p)\n",
    "w3 = Computer(w1.w, w1.com, 'компьютер', 'ноутбук', 12)\n",
    "print(w3)\n",
    "w3.add_Computer()\n",
    "w3 = Computer(w1.w, w1.com, 'компьютер', 'ноутбук', 12, 2)\n",
    "w3.del_Computer()\n",
    "print(w3)\n",
    "w3.check_Computer()"
   ]
  },
  {
   "cell_type": "markdown",
   "metadata": {},
   "source": [
    "7. Реализовать проект «Операции с комплексными числами». Создайте класс «Комплексное число». Реализуйте перегрузку методов сложения и умножения комплексных чисел. Проверьте работу проекта. Для этого создаёте экземпляры класса (комплексные числа), выполните сложение и умножение созданных экземпляров. Проверьте корректность полученного результата."
   ]
  },
  {
   "cell_type": "code",
   "execution_count": 154,
   "metadata": {},
   "outputs": [],
   "source": [
    "class Complex_number:\n",
    "    def __init__(self, real, imaginary):\n",
    "        self.r = real\n",
    "        self.im = imaginary\n",
    "    \n",
    "    def __str__(self):\n",
    "        return f'{self.r}+({self.im})i'\n",
    "    \n",
    "    def __add__(self, other):\n",
    "        return Complex_number (self.r+other.r, self.im+other.im)\n",
    "    \n",
    "    def __mul__(self,other):\n",
    "        real = self.r*other.r + (-1)*(self.im*other.im)\n",
    "        imag = self.im*other.r+self.im+other.r\n",
    "        return Complex_number (real, imag)       "
   ]
  },
  {
   "cell_type": "code",
   "execution_count": 153,
   "metadata": {},
   "outputs": [
    {
     "name": "stdout",
     "output_type": "stream",
     "text": [
      "12+(-5)i\n",
      "-7+(3)i\n",
      "5+(-2)i\n"
     ]
    }
   ],
   "source": [
    "c1 = Complex_number(12,-5)\n",
    "print(c1)\n",
    "c2 = Complex_number(-7,3)\n",
    "print(c2)\n",
    "print(c1+c2)"
   ]
  },
  {
   "cell_type": "code",
   "execution_count": 155,
   "metadata": {},
   "outputs": [
    {
     "name": "stdout",
     "output_type": "stream",
     "text": [
      "2+(3)i\n",
      "-1+(1)i\n",
      "-5+(-1)i\n"
     ]
    }
   ],
   "source": [
    "c1 = Complex_number(2,3)\n",
    "print(c1)\n",
    "c2 = Complex_number(-1,1)\n",
    "print(c2)\n",
    "print(c1*c2)"
   ]
  }
 ],
 "metadata": {
  "kernelspec": {
   "display_name": "Python 3",
   "language": "python",
   "name": "python3"
  },
  "language_info": {
   "codemirror_mode": {
    "name": "ipython",
    "version": 3
   },
   "file_extension": ".py",
   "mimetype": "text/x-python",
   "name": "python",
   "nbconvert_exporter": "python",
   "pygments_lexer": "ipython3",
   "version": "3.7.3"
  }
 },
 "nbformat": 4,
 "nbformat_minor": 2
}
