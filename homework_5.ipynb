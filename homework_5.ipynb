{
 "cells": [
  {
   "cell_type": "markdown",
   "metadata": {},
   "source": [
    "1. Создать программный файл в текстовом формате, записать в него построчно данные, вводимые пользователем. Об окончании ввода данных будет свидетельствовать пустая строка."
   ]
  },
  {
   "cell_type": "code",
   "execution_count": 22,
   "metadata": {},
   "outputs": [
    {
     "name": "stdout",
     "output_type": "stream",
     "text": [
      "Введите данные для записи 1\n",
      "записал строку 1\n",
      "Введите данные для записи привет\n",
      "записал строку привет\n",
      "Введите данные для записи hello\n",
      "записал строку hello\n",
      "Введите данные для записи 1994\n",
      "записал строку 1994\n",
      "Введите данные для записи \n",
      "запись окончена\n"
     ]
    }
   ],
   "source": [
    "with open ('file_1.txt', 'w', encoding = 'utf-8') as f:\n",
    "    while True:\n",
    "        stroka = input('Введите данные для записи ')\n",
    "        if stroka == '' or stroka.isspace():\n",
    "            print('запись окончена')\n",
    "            break\n",
    "        else:\n",
    "            f.writelines([stroka, '\\n'])\n",
    "            print(f'записал строку {stroka}')\n",
    "                        "
   ]
  },
  {
   "cell_type": "markdown",
   "metadata": {},
   "source": [
    "2. Создать текстовый файл (не программно), сохранить в нём несколько строк, выполнить подсчёт строк и слов в каждой строке."
   ]
  },
  {
   "cell_type": "code",
   "execution_count": 37,
   "metadata": {},
   "outputs": [
    {
     "name": "stdout",
     "output_type": "stream",
     "text": [
      "строка№1, длина строки 3, ﻿1\n",
      "строка№2, длина строки 7, привет\n",
      "строка№3, длина строки 6, hello\n",
      "строка№4, длина строки 5, 1994\n",
      "\n",
      "в файле было 4 строк(и)\n",
      "Записались новые данные\n",
      "строка№5, длина строки 5, Liya\n",
      "строка№6, длина строки 5, 2109\n",
      "строка№7, длина строки 6, Python"
     ]
    }
   ],
   "source": [
    "with open ('file_1.txt', 'r+', encoding = 'utf-8') as f:\n",
    "    for i,el in enumerate(f, 1):\n",
    "        print(f'строка№{i}, длина строки {len(el)}, {el}', end = '')\n",
    "    t = f.tell()\n",
    "    print(f'\\nв файле было {i} строк(и)')\n",
    "    f.writelines(['Liya\\n', '2109\\n', 'Python'])\n",
    "    print('Записались новые данные')\n",
    "    f.seek(t)\n",
    "    for i,el in enumerate(f, i+1):\n",
    "        print(f'строка№{i}, длина строки {len(el)}, {el}', end = '')\n",
    "    "
   ]
  },
  {
   "cell_type": "markdown",
   "metadata": {},
   "source": [
    "3. Создать текстовый файл (не программно). Построчно записать фамилии сотрудников и величину их окладов (не менее 10 строк). Определить, кто из сотрудников имеет оклад менее 20 тысяч, вывести фамилии этих сотрудников. Выполнить подсчёт средней величины дохода сотрудников.\n",
    "Пример файла:\n",
    "\n",
    "Иванов 23543.12\n",
    "\n",
    "Петров 13749.32"
   ]
  },
  {
   "cell_type": "code",
   "execution_count": 53,
   "metadata": {},
   "outputs": [
    {
     "name": "stdout",
     "output_type": "stream",
     "text": [
      "Петров 13749.32\n",
      "Васильева 16500.12\n",
      "Грушев 7690.33\n",
      "Александров 19300.94\n",
      "Средний доход сотрудников 90620.962\n"
     ]
    }
   ],
   "source": [
    "from statistics import mean\n",
    "with open ('file_2.txt', 'r') as f:\n",
    "    salary = []\n",
    "    for line in f:\n",
    "        salary.append(float(line.split()[1]))\n",
    "        if float(line.split()[1])<20000:\n",
    "            print(line, end='')\n",
    "    print(f'Средний доход сотрудников {mean(salary)}')"
   ]
  },
  {
   "cell_type": "markdown",
   "metadata": {},
   "source": [
    "4. Создать (не программно) текстовый файл со следующим содержимым:\n",
    "\n",
    "One — 1\n",
    "\n",
    "Two — 2\n",
    "\n",
    "Three — 3\n",
    "\n",
    "Four — 4\n",
    "\n",
    "Напишите программу, открывающую файл на чтение и считывающую построчно данные. При этом английские числительные должны заменяться на русские. Новый блок строк должен записываться в новый текстовый файл."
   ]
  },
  {
   "cell_type": "code",
   "execution_count": 78,
   "metadata": {},
   "outputs": [],
   "source": [
    "dictionary = {'One': 'Один', 'Two': 'Два', 'Three': 'Три', 'Four': 'Четыре'}\n",
    "stroki = []\n",
    "with open ('file_3.txt', 'r') as f:\n",
    "    for line in f:\n",
    "        stroka = dictionary[line.split()[0]]+line[len(line.split()[0]):]\n",
    "        stroki.append(stroka)\n",
    "with open ('file_4.txt', 'w', encoding = 'utf-8') as f1:\n",
    "    f1.writelines(stroki)          "
   ]
  },
  {
   "cell_type": "markdown",
   "metadata": {},
   "source": [
    "5. Создать (программно) текстовый файл, записать в него программно набор чисел, разделённых пробелами. Программа должна подсчитывать сумму чисел в файле и выводить её на экран."
   ]
  },
  {
   "cell_type": "code",
   "execution_count": 80,
   "metadata": {},
   "outputs": [
    {
     "name": "stdout",
     "output_type": "stream",
     "text": [
      "Введите набор чисел через пробел1 2 3\n",
      "6\n"
     ]
    }
   ],
   "source": [
    "with open ('file_5.txt', 'w', encoding = 'utf-8') as f:\n",
    "    ls = input('Введите набор чисел через пробел ')\n",
    "    f.write(ls)\n",
    "    print(sum(list(map(int,ls.split()))))"
   ]
  },
  {
   "cell_type": "markdown",
   "metadata": {},
   "source": [
    "6. Сформировать (не программно) текстовый файл. В нём каждая строка должна описывать учебный предмет и наличие лекционных, практических и лабораторных занятий по предмету. Сюда должно входить и количество занятий. Необязательно, чтобы для каждого предмета были все типы занятий.\n",
    "\n",
    "Сформировать словарь, содержащий название предмета и общее количество занятий по нему. Вывести его на экран.\n",
    "\n",
    "Примеры строк файла: Информатика: 100(л) 50(пр) 20(лаб).\n",
    "\n",
    "Физика: 30(л) — 10(лаб)\n",
    "Физкультура: — 30(пр) —\n",
    "\n",
    "\n",
    "Пример словаря: {“Информатика”: 170, “Физика”: 40, “Физкультура”: 30}"
   ]
  },
  {
   "cell_type": "code",
   "execution_count": 92,
   "metadata": {},
   "outputs": [
    {
     "name": "stdout",
     "output_type": "stream",
     "text": [
      "{'Информатика': 170, 'Физика': 40, 'Физкультура': 30}\n"
     ]
    }
   ],
   "source": [
    "ls_key = []\n",
    "ls_N = []\n",
    "with open ('file_6.txt', 'r') as f:\n",
    "    for line in f:\n",
    "        ls_key.append(line.split()[0][:-1])\n",
    "        n = 0\n",
    "        for i in line.split():\n",
    "            if '(' in i:\n",
    "                n = n+int(i.split('(')[0])\n",
    "        ls_N.append(n)\n",
    "        \n",
    "dict_ls = dict(zip(ls_key, ls_N))\n",
    "print(dict_ls)"
   ]
  },
  {
   "cell_type": "markdown",
   "metadata": {},
   "source": [
    "7. Создать вручную и заполнить несколькими строками текстовый файл, в котором каждая строка будет содержать данные о фирме: название, форма собственности, выручка, издержки.\n",
    "Пример строки файла: firm_1 ООО 10000 5000.\n",
    "\n",
    "Необходимо построчно прочитать файл, вычислить прибыль каждой компании, а также среднюю прибыль. Если фирма получила убытки, в расчёт средней прибыли её не включать.\n",
    "Далее реализовать список. Он должен содержать словарь с фирмами и их прибылями, а также словарь со средней прибылью. Если фирма получила убытки, также добавить её в словарь (со значением убытков).\n",
    "\n",
    "Пример списка: [{“firm_1”: 5000, “firm_2”: 3000, “firm_3”: 1000}, {“average_profit”: 2000}].\n",
    "\n",
    "Итоговый список сохранить в виде json-объекта в соответствующий файл.\n",
    "\n",
    "Пример json-объекта:\n",
    "[{\"firm_1\": 5000, \"firm_2\": 3000, \"firm_3\": 1000}, {\"average_profit\": 2000}]\n",
    "\n",
    "Подсказка: использовать менеджер контекста."
   ]
  },
  {
   "cell_type": "code",
   "execution_count": 96,
   "metadata": {},
   "outputs": [
    {
     "name": "stdout",
     "output_type": "stream",
     "text": [
      "firm_1 ООО 10000 5000\n",
      "firm_2 ОАО 20000 3000\n",
      "firm_3 ПАО 10000 11000\n",
      "firm_4 ЗАО 70000 100000"
     ]
    }
   ],
   "source": [
    "from statistics import mean\n",
    "import json\n",
    "Name_ls = []\n",
    "profit_ls = []\n",
    "with open ('file_7.txt', 'r') as f:\n",
    "    for line in f:        \n",
    "        print(line, end ='')\n",
    "        Name_ls.append(line.split()[0])\n",
    "        profit_ls.append(int(line.split()[3]) - int(line.split()[2]))\n",
    "dict_firm = dict(zip(Name_ls, profit_ls)) \n",
    "dict_av_pr = {'average_profit': mean(profit_ls)}\n",
    "ls_all = [dict_firm, dict_av_pr]\n",
    "\n",
    "with open ('file.json', 'w', encoding = 'utf-8') as f_j:\n",
    "    json.dump(ls_all, f_j)\n",
    "        "
   ]
  },
  {
   "cell_type": "code",
   "execution_count": null,
   "metadata": {},
   "outputs": [],
   "source": []
  }
 ],
 "metadata": {
  "kernelspec": {
   "display_name": "Python 3",
   "language": "python",
   "name": "python3"
  },
  "language_info": {
   "codemirror_mode": {
    "name": "ipython",
    "version": 3
   },
   "file_extension": ".py",
   "mimetype": "text/x-python",
   "name": "python",
   "nbconvert_exporter": "python",
   "pygments_lexer": "ipython3",
   "version": "3.7.3"
  }
 },
 "nbformat": 4,
 "nbformat_minor": 2
}
