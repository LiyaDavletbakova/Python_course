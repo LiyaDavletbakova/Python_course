{
 "cells": [
  {
   "cell_type": "markdown",
   "metadata": {},
   "source": [
    "1. Поработайте с переменными, создайте несколько, выведите на экран. Запросите у пользователя некоторые числа и строки и сохраните в переменные, затем выведите на экран."
   ]
  },
  {
   "cell_type": "code",
   "execution_count": 2,
   "metadata": {},
   "outputs": [
    {
     "name": "stdout",
     "output_type": "stream",
     "text": [
      "Число с плавающей точкой -  123.123\n",
      "Целое число -  123\n",
      "Строка -  Hello\n",
      "Boolean -  False\n"
     ]
    }
   ],
   "source": [
    "number_float = 123.123\n",
    "number_int = 123\n",
    "stroka = 'Hello'\n",
    "bool_False = False\n",
    "print ('Число с плавающей точкой - ', number_float)\n",
    "print ('Целое число - ', number_int)\n",
    "print ('Строка - ', stroka)\n",
    "print ('Boolean - ', bool_False)"
   ]
  },
  {
   "cell_type": "markdown",
   "metadata": {},
   "source": [
    "2. Пользователь вводит время в секундах. Переведите время в часы, минуты, секунды и выведите в формате чч:мм:сс. Используйте форматирование строк."
   ]
  },
  {
   "cell_type": "code",
   "execution_count": 20,
   "metadata": {},
   "outputs": [
    {
     "name": "stdout",
     "output_type": "stream",
     "text": [
      "Введение время в секундах 5433\n",
      "1 : 30 : 33\n"
     ]
    }
   ],
   "source": [
    "time_sec = int (input('Введение время в секундах '))\n",
    "time_hour = time_sec//3600\n",
    "time_min = time_sec//60-time_hour*60\n",
    "sec = time_sec%3600%60\n",
    "print (time_hour,':', time_min, ':', sec)\n"
   ]
  },
  {
   "cell_type": "markdown",
   "metadata": {},
   "source": [
    "3. Узнайте у пользователя число n. Найдите сумму чисел n + nn + nnn. Например, пользователь ввёл число 3. Считаем 3 + 33 + 333 = 369."
   ]
  },
  {
   "cell_type": "code",
   "execution_count": 23,
   "metadata": {},
   "outputs": [
    {
     "name": "stdout",
     "output_type": "stream",
     "text": [
      "Введите число2\n",
      "246\n"
     ]
    }
   ],
   "source": [
    "number = int(input('Введите число '))\n",
    "number_2 = int (str(number)*2)\n",
    "number_3 = int(str(number)*3)\n",
    "print (number+number_2+number_3)"
   ]
  },
  {
   "cell_type": "markdown",
   "metadata": {},
   "source": [
    "4. Пользователь вводит целое положительное число. Найдите самую большую цифру в числе. Для решения используйте цикл while и арифметические операции."
   ]
  },
  {
   "cell_type": "code",
   "execution_count": 29,
   "metadata": {},
   "outputs": [
    {
     "name": "stdout",
     "output_type": "stream",
     "text": [
      "Введите число 897\n",
      "Максимальное чило:  9\n"
     ]
    }
   ],
   "source": [
    "number = int(input('Введите число '))\n",
    "res = 0\n",
    "while number > 0:\n",
    "    last_n = number%10\n",
    "    if res == 0:       \n",
    "        max_num = last_n    \n",
    "    else:\n",
    "        if max_num > last_n:\n",
    "            max_num = max_num\n",
    "        else:\n",
    "            max_num = last_n\n",
    "    res = res+1\n",
    "    number = number//10\n",
    "print('Максимальное чило: ', max_num)"
   ]
  },
  {
   "cell_type": "markdown",
   "metadata": {},
   "source": [
    "5. Запросите у пользователя значения выручки и издержек фирмы. Определите, с каким финансовым результатом работает фирма. Например, прибыль — выручка больше издержек, или убыток — издержки больше выручки. Выведите соответствующее сообщение"
   ]
  },
  {
   "cell_type": "code",
   "execution_count": 1,
   "metadata": {},
   "outputs": [
    {
     "name": "stdout",
     "output_type": "stream",
     "text": [
      "Введите выручку фирмы 1000\n",
      "Введите издержку фирмы 30\n",
      "Прибыль =  970\n"
     ]
    }
   ],
   "source": [
    "profit = int(input('Введите выручку фирмы '))\n",
    "costs = int(input('Введите издержку фирмы '))\n",
    "if profit > costs:\n",
    "    print ('Прибыль = ', profit-costs)\n",
    "else:\n",
    "    print ('Убыток = ', profit-costs)"
   ]
  },
  {
   "cell_type": "markdown",
   "metadata": {},
   "source": [
    "6. Если фирма отработала с прибылью, вычислите рентабельность выручки. Это отношение прибыли к выручке. Далее запросите численность сотрудников фирмы и определите прибыль фирмы в расчёте на одного сотрудника."
   ]
  },
  {
   "cell_type": "code",
   "execution_count": 8,
   "metadata": {},
   "outputs": [
    {
     "name": "stdout",
     "output_type": "stream",
     "text": [
      "Введите выручку фирмы 100\n",
      "Введите издержку фирмы 30\n",
      "Прибыль =  70\n",
      "Введите численность сотрудников 2\n",
      "Прибыль фирмы в расчете на одного сотрудника  35.0\n"
     ]
    }
   ],
   "source": [
    "profit = int(input('Введите выручку фирмы '))\n",
    "costs = int(input('Введите издержку фирмы '))\n",
    "if profit > costs:\n",
    "    print ('Прибыль = ', profit-costs)\n",
    "    number = int(input('Введите численность сотрудников '))\n",
    "    print ('Прибыль фирмы в расчете на одного сотрудника ', (profit-costs)/number)\n",
    "    \n",
    "else:\n",
    "    print ('Убыток = ', profit-costs)"
   ]
  },
  {
   "cell_type": "markdown",
   "metadata": {},
   "source": [
    "7. Спортсмен занимается ежедневными пробежками. В первый день его результат составил a километров. Каждый день спортсмен увеличивал результат на 10% относительно предыдущего. Требуется определить номер дня, на который результат спортсмена составит не менее b километров. Программа должна принимать значения параметров a и b и выводить одно натуральное число — номер дня.\n",
    "Например: a = 2, b = 3.\n",
    "Результат:\n",
    "1-й день: 2\n",
    "2-й день: 2,2\n",
    "3-й день: 2,42\n",
    "4-й день: 2,66\n",
    "5-й день: 2,93\n",
    "6-й день: 3,22\n",
    "Ответ: на шестой день спортсмен достиг результата — не менее 3 км.\n",
    "\n"
   ]
  },
  {
   "cell_type": "code",
   "execution_count": 45,
   "metadata": {},
   "outputs": [
    {
     "name": "stdout",
     "output_type": "stream",
     "text": [
      "Результат в первый день 2\n",
      "Результат 3\n",
      "1-й день:2\n",
      "2-й день:2.2\n",
      "3-й день:2.4200000000000004\n",
      "4-й день:2.662000000000001\n",
      "5-й день:2.9282000000000012\n",
      "6-й день:3.2210200000000015\n",
      "Ответ: на 6-й день спортсмен достиг результата — не менее 3 км\n"
     ]
    }
   ],
   "source": [
    "a = int(input('Результат в первый день '))\n",
    "b = int(input('Результат '))\n",
    "day = 1\n",
    "print (f'{day}-й день:{a}')\n",
    "while a <= b:\n",
    "    a *=1.1\n",
    "    day+=1\n",
    "    print (f'{day}-й день:{a}')\n",
    "print (f'Ответ: на {day}-й день спортсмен достиг результата — не менее {b} км')\n"
   ]
  }
 ],
 "metadata": {
  "kernelspec": {
   "display_name": "Python 3",
   "language": "python",
   "name": "python3"
  },
  "language_info": {
   "codemirror_mode": {
    "name": "ipython",
    "version": 3
   },
   "file_extension": ".py",
   "mimetype": "text/x-python",
   "name": "python",
   "nbconvert_exporter": "python",
   "pygments_lexer": "ipython3",
   "version": "3.7.3"
  }
 },
 "nbformat": 4,
 "nbformat_minor": 2
}
