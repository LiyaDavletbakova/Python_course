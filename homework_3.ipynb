{
 "cells": [
  {
   "cell_type": "markdown",
   "metadata": {},
   "source": [
    "1. Реализовать функцию, принимающую два числа (позиционные аргументы) и выполняющую их деление. Числа запрашивать у пользователя, предусмотреть обработку ситуации деления на ноль."
   ]
  },
  {
   "cell_type": "code",
   "execution_count": 2,
   "metadata": {},
   "outputs": [
    {
     "name": "stdout",
     "output_type": "stream",
     "text": [
      "2.0\n",
      "Деление на ноль\n"
     ]
    }
   ],
   "source": [
    "def devide_num(number_1, number_2):\n",
    "    if number_2 == 0:\n",
    "        print('Деление на ноль')\n",
    "    else:\n",
    "        print(number_1/number_2)\n",
    "\n",
    "devide_num(20,10)\n",
    "devide_num(10,0)"
   ]
  },
  {
   "cell_type": "markdown",
   "metadata": {},
   "source": [
    "2. Выполнить функцию, которая принимает несколько параметров, описывающих данные пользователя: имя, фамилия, год рождения, город проживания, email, телефон. Функция должна принимать параметры как именованные аргументы. Осуществить вывод данных о пользователе одной строкой."
   ]
  },
  {
   "cell_type": "code",
   "execution_count": 7,
   "metadata": {},
   "outputs": [
    {
     "name": "stdout",
     "output_type": "stream",
     "text": [
      "имя: Лия, фамилия: Давлетбакова, год рождения: 1994, город проживания: СПб,email: d_liya_94@list.ru, телефон: 123\n"
     ]
    }
   ],
   "source": [
    "def info(name, birth_day, surname,mail, city, phone):\n",
    "    print(f'имя: {name}, фамилия: {surname}, год рождения: {birth_day}, город проживания: {city},email: {mail}, телефон: {phone}')\n",
    "\n",
    "info(name = 'Лия',surname = 'Давлетбакова',birth_day = '1994',city = 'СПб',mail = 'd_liya_94@list.ru',phone = '123')\n",
    "    "
   ]
  },
  {
   "cell_type": "markdown",
   "metadata": {},
   "source": [
    "3. Реализовать функцию my_func(), которая принимает три позиционных аргумента и возвращает сумму наибольших двух аргументов."
   ]
  },
  {
   "cell_type": "code",
   "execution_count": 15,
   "metadata": {},
   "outputs": [
    {
     "data": {
      "text/plain": [
       "5"
      ]
     },
     "execution_count": 15,
     "metadata": {},
     "output_type": "execute_result"
    }
   ],
   "source": [
    "def my_func(number_1, number_2, number_3):\n",
    "    a = [number_1, number_2, number_3]\n",
    "    a.remove(min(a))\n",
    "    return sum(a)\n",
    "my_func(1,2,3)    "
   ]
  },
  {
   "cell_type": "markdown",
   "metadata": {},
   "source": [
    "4. Программа принимает действительное положительное число x и целое отрицательное число y. Выполните возведение числа x в степень y. Задание реализуйте в виде функции my_func(x, y). При решении задания нужно обойтись без встроенной функции возведения числа в степень."
   ]
  },
  {
   "cell_type": "code",
   "execution_count": 45,
   "metadata": {},
   "outputs": [
    {
     "data": {
      "text/plain": [
       "0.03125"
      ]
     },
     "execution_count": 45,
     "metadata": {},
     "output_type": "execute_result"
    }
   ],
   "source": [
    "def my_func(x, y):\n",
    "    n = x\n",
    "    for i in range(abs(y)-1):\n",
    "        x = x*n\n",
    "    return 1/x\n",
    "my_func(2,-5)"
   ]
  },
  {
   "cell_type": "code",
   "execution_count": 46,
   "metadata": {},
   "outputs": [
    {
     "data": {
      "text/plain": [
       "0.03125"
      ]
     },
     "execution_count": 46,
     "metadata": {},
     "output_type": "execute_result"
    }
   ],
   "source": [
    "def my_func(x, y):\n",
    "    return x**(y)\n",
    "my_func(2,-5)"
   ]
  },
  {
   "cell_type": "markdown",
   "metadata": {},
   "source": [
    "5. Программа запрашивает у пользователя строку чисел, разделённых пробелом. При нажатии Enter должна выводиться сумма чисел. Пользователь может продолжить ввод чисел, разделённых пробелом и снова нажать Enter. Сумма вновь введённых чисел будет добавляться к уже подсчитанной сумме.\n",
    "Но если вместо числа вводится специальный символ, выполнение программы завершается. Если специальный символ введён после нескольких чисел, то вначале нужно добавить сумму этих чисел к полученной ранее сумме и после этого завершить программу."
   ]
  },
  {
   "cell_type": "code",
   "execution_count": 52,
   "metadata": {},
   "outputs": [],
   "source": [
    "def func_while():   \n",
    "    spisok = input('Введите строку через пробел ').split()\n",
    "    spisok = list(map(int,spisok))\n",
    "    print(sum(spisok))\n",
    "    while True:\n",
    "        spisok_1 = input('Введите строку через пробел ').split()\n",
    "        for i in spisok_1:\n",
    "            if i == 'stop':\n",
    "                return print(f'stop, {sum(spisok)}')\n",
    "            else:\n",
    "                spisok.append(int(i))\n",
    "        print(sum(spisok))"
   ]
  },
  {
   "cell_type": "code",
   "execution_count": 53,
   "metadata": {},
   "outputs": [
    {
     "name": "stdout",
     "output_type": "stream",
     "text": [
      "Введите строку через пробел 1 2 3\n",
      "6\n",
      "Введите строку через пробел 2 5\n",
      "13\n",
      "Введите строку через пробел 2 stop\n",
      "stop, 15\n"
     ]
    }
   ],
   "source": [
    "func_while()"
   ]
  },
  {
   "cell_type": "markdown",
   "metadata": {},
   "source": [
    "6. Реализовать функцию int_func(), принимающую слова из маленьких латинских букв и возвращающую их же, но с прописной первой буквой. Например, print(int_func(‘text’)) -> Text."
   ]
  },
  {
   "cell_type": "code",
   "execution_count": 50,
   "metadata": {},
   "outputs": [
    {
     "name": "stdout",
     "output_type": "stream",
     "text": [
      "Text\n"
     ]
    }
   ],
   "source": [
    "def int_func(t):\n",
    "    return str(t).title()\n",
    "print(int_func('text'))"
   ]
  },
  {
   "cell_type": "markdown",
   "metadata": {},
   "source": [
    "7. Продолжить работу над заданием. В программу должна попадать строка из слов, разделённых пробелом. Каждое слово состоит из латинских букв в нижнем регистре. Нужно сделать вывод исходной строки, но каждое слово должно начинаться с заглавной буквы. Используйте написанную ранее функцию int_func()."
   ]
  },
  {
   "cell_type": "code",
   "execution_count": 51,
   "metadata": {},
   "outputs": [
    {
     "name": "stdout",
     "output_type": "stream",
     "text": [
      "Введите слова разделнным пробелом с мал.буквыgg gg gg\n",
      "['Gg', 'Gg', 'Gg']\n"
     ]
    }
   ],
   "source": [
    "stroka = input('Введите слова разделнным пробелом с мал.буквы')\n",
    "print(list(map(int_func,stroka.split())))"
   ]
  }
 ],
 "metadata": {
  "kernelspec": {
   "display_name": "Python 3",
   "language": "python",
   "name": "python3"
  },
  "language_info": {
   "codemirror_mode": {
    "name": "ipython",
    "version": 3
   },
   "file_extension": ".py",
   "mimetype": "text/x-python",
   "name": "python",
   "nbconvert_exporter": "python",
   "pygments_lexer": "ipython3",
   "version": "3.7.3"
  }
 },
 "nbformat": 4,
 "nbformat_minor": 2
}
