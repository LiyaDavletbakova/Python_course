{
 "cells": [
  {
   "cell_type": "markdown",
   "metadata": {},
   "source": [
    "1. Реализовать класс Matrix (матрица). Обеспечить перегрузку конструктора класса (метод __init__()), который должен принимать данные (список списков) для формирования матрицы.\n",
    "\n",
    "Подсказка: матрица — система некоторых математических величин, расположенных в виде прямоугольной схемы.\n",
    "Примеры матриц: 3 на 2, 3 на 3, 2 на 4.\n",
    "\n",
    "31    32         3    5    32        3    5    8    3\n",
    "\n",
    "37    43         2    4    6         8    3    7    1\n",
    "\n",
    "51    86        -1   64   -8\n",
    "\n",
    "Следующий шаг — реализовать перегрузку метода __str__() для вывода матрицы в привычном виде.\n",
    "Далее реализовать перегрузку метода __add__() для реализации операции сложения двух объектов класса Matrix (двух матриц). Результатом сложения должна быть новая матрица.\n",
    "Подсказка: сложение элементов матриц выполнять поэлементно — первый элемент первой строки первой матрицы складываем с первым элементом первой строки второй матрицы и т.д."
   ]
  },
  {
   "cell_type": "code",
   "execution_count": 100,
   "metadata": {},
   "outputs": [],
   "source": [
    "class Matrix:\n",
    "    def __init__(self, spisok):\n",
    "        self.s = spisok\n",
    "    def __str__(self):\n",
    "        new_sp =''\n",
    "        for i in self.s:\n",
    "            for j in range(len(i)):\n",
    "                if j<len(i)-1:\n",
    "                    new_sp = new_sp + str(i[j])+' '\n",
    "                else:\n",
    "                    new_sp = new_sp + str(i[j])+'\\n'\n",
    "        return new_sp\n",
    "                \n",
    "    def __add__(self,other):\n",
    "        new_s = []\n",
    "        for i in range (len(self.s)):\n",
    "            new =[self.s[i][j] + other.s[i][j] for j in range(len(self.s[i]))]\n",
    "            new_s.append(new)\n",
    "        return Matrix(new_s)\n",
    "        \n",
    "        \n",
    "        \n",
    "        "
   ]
  },
  {
   "cell_type": "code",
   "execution_count": 104,
   "metadata": {},
   "outputs": [
    {
     "name": "stdout",
     "output_type": "stream",
     "text": [
      "1 2 3\n",
      "2 3 4\n",
      "\n"
     ]
    }
   ],
   "source": [
    "s1 = Matrix(spisok_1)\n",
    "print(s1)"
   ]
  },
  {
   "cell_type": "code",
   "execution_count": 105,
   "metadata": {},
   "outputs": [
    {
     "name": "stdout",
     "output_type": "stream",
     "text": [
      "4 8 7\n",
      "4 8 9\n",
      "\n"
     ]
    }
   ],
   "source": [
    "s2 = Matrix(spisok_2)\n",
    "print(s2)"
   ]
  },
  {
   "cell_type": "code",
   "execution_count": 106,
   "metadata": {},
   "outputs": [
    {
     "name": "stdout",
     "output_type": "stream",
     "text": [
      "5 10 10\n",
      "6 11 13\n",
      "\n"
     ]
    }
   ],
   "source": [
    "print(s1+s2)"
   ]
  },
  {
   "cell_type": "markdown",
   "metadata": {},
   "source": [
    "2. Реализовать проект расчёта суммарного расхода ткани на производство одежды. Основная сущность (класс) этого проекта — одежда, которая может иметь определённое название. К типам одежды в этом проекте относятся пальто и костюм. У этих типов одежды существуют параметры: размер (для пальто) и рост (для костюма). Это могут быть обычные числа: V и H, соответственно.\n",
    "Для определения расхода ткани по каждому типу одежды использовать формулы: для пальто (V/6.5 + 0.5), для костюма (2*H + 0.3). Проверить работу этих методов на реальных данных.\n",
    "Реализовать общий подсчет расхода ткани. Проверить на практике полученные на этом уроке знания: реализовать абстрактные классы для основных классов проекта, проверить на практике работу декоратора @property."
   ]
  },
  {
   "cell_type": "code",
   "execution_count": 141,
   "metadata": {},
   "outputs": [],
   "source": [
    "from abc import ABC, abstractmethod\n",
    "class Clothers(ABC):\n",
    "    @abstractmethod\n",
    "    def __init__(self, name, parametr):\n",
    "        self.n = name\n",
    "        self.p = parametr\n",
    "\n",
    "    \n",
    "    @abstractmethod\n",
    "    def expense(self):\n",
    "        return f'расход для {self.n} равен {self.calc}'\n",
    "\n",
    "class Coat(Clothers):\n",
    "    def __init__(self, name, parametr):\n",
    "        self.n = name\n",
    "        self.p = parametr\n",
    "       \n",
    "    @property\n",
    "    def expense(self):\n",
    "        d = round (self.p/6.5+0.5, 2)\n",
    "        return f'расход для {self.n} равен {str(d)}'\n",
    "\n",
    "class Suit(Clothers):\n",
    "    def __init__(self, name, parametr):\n",
    "        self.n = name\n",
    "        self.p = parametr\n",
    "       \n",
    "    @property\n",
    "    def expense(self):\n",
    "        d = round (2*self.p +0.3)\n",
    "        return f'расход для {self.n} равен {str(d)}'\n",
    "     "
   ]
  },
  {
   "cell_type": "code",
   "execution_count": 142,
   "metadata": {},
   "outputs": [
    {
     "data": {
      "text/plain": [
       "'расход для Пальто равен 7.88'"
      ]
     },
     "execution_count": 142,
     "metadata": {},
     "output_type": "execute_result"
    }
   ],
   "source": [
    "n1 = Coat('Пальто', 48)\n",
    "n1.expense"
   ]
  },
  {
   "cell_type": "code",
   "execution_count": 143,
   "metadata": {},
   "outputs": [
    {
     "data": {
      "text/plain": [
       "'расход для Костюм равен 26.65'"
      ]
     },
     "execution_count": 143,
     "metadata": {},
     "output_type": "execute_result"
    }
   ],
   "source": [
    "n2 = Coat('Костюм', 170)\n",
    "n2.expense"
   ]
  },
  {
   "cell_type": "markdown",
   "metadata": {},
   "source": [
    "3. Реализовать программу работы с органическими клетками, состоящими из ячеек. Необходимо создать класс Клетка. В его конструкторе инициализировать параметр, соответствующий количеству ячеек клетки (целое число). В классе должны быть реализованы методы перегрузки арифметических операторов: сложение (__add__()), вычитание (__sub__()), умножение (__mul__()), деление (__truediv__()). Данные методы должны применяться только к клеткам и выполнять увеличение, уменьшение, умножение и целочисленное (с округлением до целого) деление клеток, соответственно.\n",
    "\n",
    "Сложение. Объединение двух клеток. При этом число ячеек общей клетки должно равняться сумме ячеек исходных двух клеток.\n",
    "\n",
    "Вычитание. Участвуют две клетки. Операцию необходимо выполнять только если разность количества ячеек двух клеток больше нуля, иначе выводить соответствующее сообщение.\n",
    "\n",
    "Умножение. Создаётся общая клетка из двух. Число ячеек общей клетки определяется как произведение количества ячеек этих двух клеток.\n",
    "\n",
    "Деление. Создаётся общая клетка из двух. Число ячеек общей клетки определяется как целочисленное деление количества ячеек этих двух клеток.\n",
    "\n",
    "В классе необходимо реализовать метод make_order(), принимающий экземпляр класса и количество ячеек в ряду. Данный метод позволяет организовать ячейки по рядам.\n",
    "Метод должен возвращать строку вида *****\\n*****\\n*****..., где количество ячеек между \\n равно переданному аргументу. Если ячеек на формирование ряда не хватает, то в последний ряд записываются все оставшиеся.\n",
    "Например, количество ячеек клетки равняется 12, количество ячеек в ряду — 5. Тогда метод make_order() вернёт строку: *****\\n*****\\n**.\n",
    "Или, количество ячеек клетки равняется 15, количество ячеек в ряду — 5. Тогда метод make_order() вернёт строку: *****\\n*****\\n*****.\n",
    "Подсказка: подробный список операторов для перегрузки доступен по ссылке"
   ]
  },
  {
   "cell_type": "code",
   "execution_count": 173,
   "metadata": {},
   "outputs": [],
   "source": [
    "class Cell:\n",
    "    def __init__(self, N):\n",
    "        self.N = N\n",
    "    def __add__(self, other):\n",
    "        return self.N+other.N\n",
    "    \n",
    "    def __sub__(self, other):\n",
    "        sub = self.N - other.N\n",
    "        if sub<0:\n",
    "            return 'Разность меньше нуля'\n",
    "        else:\n",
    "            return sub\n",
    "    \n",
    "    def __mul__(self,other):\n",
    "        return Cell(self.N*other.N)\n",
    "    \n",
    "    def __truediv__ (self, other):\n",
    "        return Cell(self.N//other.N)\n",
    "    \n",
    "    def make_order(self,N_cell):\n",
    "        self.N_cell = N_cell\n",
    "        if self.N%self.N_cell == 0:\n",
    "            s = ('*'*self.N_cell+'\\n')*((self.N//self.N_cell)-1)+ '*'*self.N_cell\n",
    "        else:\n",
    "            s = ('*'*self.N_cell+'\\n')*(self.N//self.N_cell)+ '*'*(self.N%self.N_cell)\n",
    "        return s\n"
   ]
  },
  {
   "cell_type": "code",
   "execution_count": 174,
   "metadata": {},
   "outputs": [
    {
     "name": "stdout",
     "output_type": "stream",
     "text": [
      "27\n",
      "3\n",
      "Разность меньше нуля\n",
      "180\n",
      "1\n"
     ]
    }
   ],
   "source": [
    "c1 = Cell(15)\n",
    "c2 = Cell(12)\n",
    "print(c1+c2)\n",
    "print (c1-c2)\n",
    "print (c2-c1)\n",
    "c12 = c1*c2\n",
    "c22 = c1/c2\n",
    "print (c12.N)\n",
    "print (c22.N)"
   ]
  },
  {
   "cell_type": "code",
   "execution_count": 177,
   "metadata": {},
   "outputs": [
    {
     "name": "stdout",
     "output_type": "stream",
     "text": [
      "***\n",
      "***\n",
      "***\n",
      "***\n",
      "***\n"
     ]
    }
   ],
   "source": [
    "print(c1.make_order(3))"
   ]
  },
  {
   "cell_type": "code",
   "execution_count": 178,
   "metadata": {},
   "outputs": [
    {
     "name": "stdout",
     "output_type": "stream",
     "text": [
      "*****\n",
      "*****\n",
      "**\n"
     ]
    }
   ],
   "source": [
    "print(c2.make_order(5))"
   ]
  }
 ],
 "metadata": {
  "kernelspec": {
   "display_name": "Python 3",
   "language": "python",
   "name": "python3"
  },
  "language_info": {
   "codemirror_mode": {
    "name": "ipython",
    "version": 3
   },
   "file_extension": ".py",
   "mimetype": "text/x-python",
   "name": "python",
   "nbconvert_exporter": "python",
   "pygments_lexer": "ipython3",
   "version": "3.7.3"
  }
 },
 "nbformat": 4,
 "nbformat_minor": 2
}
