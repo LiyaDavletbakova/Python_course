{
 "cells": [
  {
   "cell_type": "markdown",
   "metadata": {},
   "source": [
    "1. Создать класс TrafficLight (светофор).\n",
    "\n",
    "определить у него один атрибут color (цвет) и метод running (запуск);\n",
    "атрибут реализовать как приватный;\n",
    "\n",
    "в рамках метода реализовать переключение светофора в режимы: красный, жёлтый, зелёный;\n",
    "продолжительность первого состояния (красный) составляет 7 секунд, второго (жёлтый) — 2 секунды, третьего (зелёный) — на ваше усмотрение;\n",
    "\n",
    "переключение между режимами должно осуществляться только в указанном порядке (красный, жёлтый, зелёный);\n",
    "проверить работу примера, создав экземпляр и вызвав описанный метод.\n",
    "\n",
    "Задачу можно усложнить, реализовав проверку порядка режимов. При его нарушении выводить соответствующее сообщение и завершать скрипт."
   ]
  },
  {
   "cell_type": "code",
   "execution_count": 3,
   "metadata": {},
   "outputs": [
    {
     "name": "stdout",
     "output_type": "stream",
     "text": [
      "red - stop\n",
      "yellow - wait\n",
      "green - goo!\n",
      "Вы перешли дорогу!\n"
     ]
    }
   ],
   "source": [
    "import time\n",
    "class TrafficLight:\n",
    "    __color = ['red', 'yellow', 'green']\n",
    "    def running(self):\n",
    "        print (f'{TrafficLight.__color[0]} - stop') \n",
    "        time.sleep(7)\n",
    "        print (f'{TrafficLight.__color[1]} - wait')\n",
    "        time.sleep(2)\n",
    "        print (f'{TrafficLight.__color[2]} - goo!')\n",
    "        time.sleep(10)\n",
    "        print('Вы перешли дорогу!')\n",
    "\n",
    "class_1 = TrafficLight()\n",
    "class_1.running()\n",
    "        "
   ]
  },
  {
   "cell_type": "markdown",
   "metadata": {},
   "source": [
    "2. Реализовать класс Road (дорога).\n",
    "\n",
    "определить атрибуты: length (длина), width (ширина);\n",
    "\n",
    "значения атрибутов должны передаваться при создании экземпляра класса;\n",
    "\n",
    "атрибуты сделать защищёнными;\n",
    "\n",
    "определить метод расчёта массы асфальта, необходимого для покрытия всей дороги;\n",
    "использовать формулу: длина* ширина * масса асфальта для покрытия одного кв. метра дороги асфальтом, толщиной в 1 см*число см толщины полотна;\n",
    "\n",
    "проверить работу метода.\n",
    "\n",
    "Например: 20 м* 5000 м* 25 кг* 5 см = 12500 т.\n"
   ]
  },
  {
   "cell_type": "code",
   "execution_count": 10,
   "metadata": {},
   "outputs": [
    {
     "name": "stdout",
     "output_type": "stream",
     "text": [
      "12500.0 t\n"
     ]
    }
   ],
   "source": [
    "class Road():\n",
    "    mass = 25\n",
    "    depth = 5    \n",
    "    def calc(self, length, width):\n",
    "        self._l = length\n",
    "        self._w = width\n",
    "        print((self._l*self._w*Road.mass*Road.depth)/1000, 't')\n",
    "Road_1 = Road()\n",
    "Road_1.calc(20, 5000)"
   ]
  },
  {
   "cell_type": "markdown",
   "metadata": {},
   "source": [
    "3. Реализовать базовый класс Worker (работник).\n",
    "\n",
    "определить атрибуты: name, surname, position (должность), income (доход);\n",
    "\n",
    "последний атрибут должен быть защищённым и ссылаться на словарь, содержащий элементы: оклад и премия, например, {\"wage\": wage, \"bonus\": bonus};\n",
    "\n",
    "создать класс Position (должность) на базе класса Worker;\n",
    "\n",
    "в классе Position реализовать методы получения полного имени сотрудника (get_full_name) и дохода с учётом премии (get_total_income);\n",
    "\n",
    "проверить работу примера на реальных данных: создать экземпляры класса Position, передать данные, проверить значения атрибутов, вызвать методы экземпляров."
   ]
  },
  {
   "cell_type": "code",
   "execution_count": 1,
   "metadata": {},
   "outputs": [
    {
     "name": "stdout",
     "output_type": "stream",
     "text": [
      "Liya Davlet\n",
      "Доход с учетом премий  60000\n",
      "Dasha Lii\n",
      "Доход с учетом премий  60000\n"
     ]
    }
   ],
   "source": [
    "class Worker():\n",
    "    def  __init__(self, name, surname, position):\n",
    "        self.n = name\n",
    "        self.s = surname\n",
    "        self.p = position\n",
    "        self._income = {'wage': 50000 , 'bonus': 10000}\n",
    "        \n",
    "class Position(Worker):\n",
    "    def get_full_name(self):\n",
    "        print (f'{self.n} {self.s}')\n",
    "    def get_total_income(self):\n",
    "        print ('Доход с учетом премий ',self._income['wage']+self._income['bonus'])\n",
    "\n",
    "Worker_1 = Position('Liya', 'Davlet', 'lead eng')\n",
    "Worker_2 = Position('Dasha', 'Lii', 'chief eng')\n",
    "Worker_1.get_full_name()\n",
    "Worker_1.get_total_income()\n",
    "Worker_2.get_full_name()\n",
    "Worker_2.get_total_income()"
   ]
  },
  {
   "cell_type": "markdown",
   "metadata": {},
   "source": [
    "4. Реализуйте базовый класс Car.\n",
    "\n",
    "у класса должны быть следующие атрибуты: speed, color, name, is_police (булево). А также методы: go, stop, turn(direction), которые должны сообщать, что машина поехала, остановилась, повернула (куда);\n",
    "\n",
    "опишите несколько дочерних классов: TownCar, SportCar, WorkCar, PoliceCar;\n",
    "\n",
    "добавьте в базовый класс метод show_speed, который должен показывать текущую скорость автомобиля;\n",
    "\n",
    "для классов TownCar и WorkCar переопределите метод show_speed. При значении скорости свыше 60 (TownCar) и 40 (WorkCar) должно выводиться сообщение о превышении скорости.\n",
    "\n",
    "Создайте экземпляры классов, передайте значения атрибутов. Выполните доступ к атрибутам, выведите результат. Вызовите методы и покажите результат."
   ]
  },
  {
   "cell_type": "code",
   "execution_count": 22,
   "metadata": {},
   "outputs": [],
   "source": [
    "class Car():\n",
    "    def  __init__(self, speed, color, is_police):\n",
    "        self.s = speed\n",
    "        self.c = color\n",
    "        self.is_p = is_police\n",
    "    def go(self):\n",
    "        print('Машина поехала')\n",
    "    def stop(self):\n",
    "        print ('Машина остановилась')\n",
    "    def turn_right(self):\n",
    "        print ('Машине повернула направо')\n",
    "    def turn_left(self):\n",
    "        print ('Машине повернула налево')\n",
    "    def show_speed(self):\n",
    "        print (f'текущая скорость автомобиля {self.s}')\n",
    "    def color_method(self):\n",
    "        print (f'цвет машины {self.c}')\n",
    "\n",
    "class TownCar(Car):\n",
    "    def show_speed(self):\n",
    "        if self.s >60:\n",
    "            print ('превышение скорости')\n",
    "        else:\n",
    "            print (f'текущая скорость автомобиля {self.s}')\n",
    "    def TownCar_method(self):\n",
    "        print ('TownCar')\n",
    "            \n",
    "class WorkCar(Car):\n",
    "    def show_speed(self):\n",
    "        if self.s>40:\n",
    "            print ('превышение скорости')\n",
    "        else:\n",
    "            print (f'текущая скорость автомобиля {self.s}')\n",
    "\n",
    "class SportCar(Car):\n",
    "    def SportCar_method(self):\n",
    "        print ('SportCar')\n",
    "\n",
    "class PoliceCar(Car):\n",
    "    def PoliceCar_method(self):\n",
    "        if self.is_p == True:\n",
    "            print ('Полицейская тачка')\n",
    "        else:\n",
    "            pass        "
   ]
  },
  {
   "cell_type": "code",
   "execution_count": 19,
   "metadata": {},
   "outputs": [
    {
     "name": "stdout",
     "output_type": "stream",
     "text": [
      "Машина поехала\n",
      "Машина остановилась\n",
      "Машине повернула направо\n",
      "Машине повернула налево\n",
      "текущая скорость автомобиля 30\n",
      "цвет машины red\n"
     ]
    }
   ],
   "source": [
    "car1 = Car(30, 'red', False)\n",
    "car1.go()\n",
    "car1.stop()\n",
    "car1.turn_right()\n",
    "car1.turn_left()\n",
    "car1.show_speed()\n",
    "car1.color_method()"
   ]
  },
  {
   "cell_type": "code",
   "execution_count": 21,
   "metadata": {},
   "outputs": [
    {
     "name": "stdout",
     "output_type": "stream",
     "text": [
      "Машина поехала\n",
      "Машина остановилась\n",
      "Машине повернула направо\n",
      "Машине повернула налево\n",
      "превышение скорости\n",
      "цвет машины green\n"
     ]
    }
   ],
   "source": [
    "car2 = TownCar(75, 'green', False)\n",
    "car2.go()\n",
    "car2.stop()\n",
    "car2.turn_right()\n",
    "car2.turn_left()\n",
    "car2.show_speed()\n",
    "car2.color_method()"
   ]
  },
  {
   "cell_type": "code",
   "execution_count": 23,
   "metadata": {},
   "outputs": [
    {
     "name": "stdout",
     "output_type": "stream",
     "text": [
      "Машина поехала\n",
      "Машина остановилась\n",
      "Машине повернула направо\n",
      "Машине повернула налево\n",
      "превышение скорости\n",
      "цвет машины yellow\n"
     ]
    }
   ],
   "source": [
    "car3 = WorkCar(45, 'yellow', False)\n",
    "car3.go()\n",
    "car3.stop()\n",
    "car3.turn_right()\n",
    "car3.turn_left()\n",
    "car3.show_speed()\n",
    "car3.color_method()"
   ]
  },
  {
   "cell_type": "code",
   "execution_count": 24,
   "metadata": {},
   "outputs": [
    {
     "name": "stdout",
     "output_type": "stream",
     "text": [
      "Машина поехала\n",
      "Машина остановилась\n",
      "Машине повернула направо\n",
      "Машине повернула налево\n",
      "текущая скорость автомобиля 55\n",
      "цвет машины blue\n",
      "SportCar\n"
     ]
    }
   ],
   "source": [
    "car4 = SportCar(55, 'blue', False)\n",
    "car4.go()\n",
    "car4.stop()\n",
    "car4.turn_right()\n",
    "car4.turn_left()\n",
    "car4.show_speed()\n",
    "car4.color_method()\n",
    "car4.SportCar_method()"
   ]
  },
  {
   "cell_type": "code",
   "execution_count": 25,
   "metadata": {},
   "outputs": [
    {
     "name": "stdout",
     "output_type": "stream",
     "text": [
      "Машина поехала\n",
      "Машина остановилась\n",
      "Машине повернула направо\n",
      "Машине повернула налево\n",
      "текущая скорость автомобиля 55\n",
      "цвет машины black\n",
      "Полицейская тачка\n"
     ]
    }
   ],
   "source": [
    "car5 = PoliceCar(55, 'black', True)\n",
    "car5.go()\n",
    "car5.stop()\n",
    "car5.turn_right()\n",
    "car5.turn_left()\n",
    "car5.show_speed()\n",
    "car5.color_method()\n",
    "car5.PoliceCar_method()"
   ]
  },
  {
   "cell_type": "markdown",
   "metadata": {},
   "source": [
    "5. Реализовать класс Stationery (канцелярская принадлежность).\n",
    "\n",
    "определить в нём атрибут title (название) и метод draw (отрисовка). Метод выводит сообщение «Запуск отрисовки»;\n",
    "\n",
    "создать три дочерних класса Pen (ручка), Pencil (карандаш), Handle (маркер);\n",
    "\n",
    "в каждом классе реализовать переопределение метода draw. Для каждого класса метод должен выводить уникальное сообщение;\n",
    "\n",
    "создать экземпляры классов и проверить, что выведет описанный метод для каждого экземпляра."
   ]
  },
  {
   "cell_type": "code",
   "execution_count": 26,
   "metadata": {},
   "outputs": [],
   "source": [
    "class Stationery():\n",
    "    def  __init__(self, title):\n",
    "        self.t = title\n",
    "    def draw(self):\n",
    "        print('Запуск отрисовки')\n",
    "        \n",
    "class Pen(Stationery):\n",
    "    def draw(self):\n",
    "        print ('Рисуем ручкой')\n",
    "        \n",
    "class Pencil(Stationery):\n",
    "    def draw(self):\n",
    "        print ('Рисуем карандашом')\n",
    "\n",
    "class Handle(Stationery):\n",
    "    def draw(self):\n",
    "        print ('Рисуем маркером')\n",
    "    "
   ]
  },
  {
   "cell_type": "code",
   "execution_count": 27,
   "metadata": {},
   "outputs": [
    {
     "name": "stdout",
     "output_type": "stream",
     "text": [
      "Запуск отрисовки\n"
     ]
    }
   ],
   "source": [
    "draw1 = Stationery('картина')\n",
    "draw1.draw()"
   ]
  },
  {
   "cell_type": "code",
   "execution_count": 28,
   "metadata": {},
   "outputs": [
    {
     "name": "stdout",
     "output_type": "stream",
     "text": [
      "Рисуем ручкой\n"
     ]
    }
   ],
   "source": [
    "draw2 = Pen('ручка')\n",
    "draw2.draw()"
   ]
  },
  {
   "cell_type": "code",
   "execution_count": 29,
   "metadata": {},
   "outputs": [
    {
     "name": "stdout",
     "output_type": "stream",
     "text": [
      "Рисуем карандашом\n"
     ]
    }
   ],
   "source": [
    "draw3 = Pencil('карандаш')\n",
    "draw3.draw()"
   ]
  },
  {
   "cell_type": "code",
   "execution_count": 30,
   "metadata": {},
   "outputs": [
    {
     "name": "stdout",
     "output_type": "stream",
     "text": [
      "Рисуем маркером\n"
     ]
    }
   ],
   "source": [
    "draw4 = Handle('маркер')\n",
    "draw4.draw()"
   ]
  },
  {
   "cell_type": "code",
   "execution_count": null,
   "metadata": {},
   "outputs": [],
   "source": []
  }
 ],
 "metadata": {
  "kernelspec": {
   "display_name": "Python 3",
   "language": "python",
   "name": "python3"
  },
  "language_info": {
   "codemirror_mode": {
    "name": "ipython",
    "version": 3
   },
   "file_extension": ".py",
   "mimetype": "text/x-python",
   "name": "python",
   "nbconvert_exporter": "python",
   "pygments_lexer": "ipython3",
   "version": "3.7.3"
  }
 },
 "nbformat": 4,
 "nbformat_minor": 2
}
